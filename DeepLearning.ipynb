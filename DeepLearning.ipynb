{
  "nbformat": 4,
  "nbformat_minor": 0,
  "metadata": {
    "colab": {
      "name": "DeepLearning.ipynb",
      "provenance": []
    },
    "kernelspec": {
      "name": "python3",
      "display_name": "Python 3"
    },
    "language_info": {
      "name": "python"
    }
  },
  "cells": [
    {
      "cell_type": "code",
      "metadata": {
        "id": "tCmupZNPUkYj"
      },
      "source": [
        "import numpy as np\n",
        "import pandas as pd\n",
        "from keras.models import Sequential\n",
        "from keras.layers import Dense"
      ],
      "execution_count": 1,
      "outputs": []
    },
    {
      "cell_type": "code",
      "metadata": {
        "colab": {
          "base_uri": "https://localhost:8080/"
        },
        "id": "MoKGbF643Bw2",
        "outputId": "d859af3e-6795-4076-ffd3-3cb3812d631d"
      },
      "source": [
        "from google.colab import drive\n",
        "drive.mount('/content/drive')"
      ],
      "execution_count": 2,
      "outputs": [
        {
          "output_type": "stream",
          "text": [
            "Drive already mounted at /content/drive; to attempt to forcibly remount, call drive.mount(\"/content/drive\", force_remount=True).\n"
          ],
          "name": "stdout"
        }
      ]
    },
    {
      "cell_type": "code",
      "metadata": {
        "id": "f7Ym2FmbVNzm"
      },
      "source": [
        "df=pd.read_csv(\"/content/deep_learning.csv\")"
      ],
      "execution_count": 3,
      "outputs": []
    },
    {
      "cell_type": "code",
      "metadata": {
        "colab": {
          "base_uri": "https://localhost:8080/",
          "height": 207
        },
        "id": "eEdKfSw0Vj9Y",
        "outputId": "4f2d8b3c-95ce-4c45-b13e-4f21088111e9"
      },
      "source": [
        "df.head()"
      ],
      "execution_count": 4,
      "outputs": [
        {
          "output_type": "execute_result",
          "data": {
            "text/html": [
              "<div>\n",
              "<style scoped>\n",
              "    .dataframe tbody tr th:only-of-type {\n",
              "        vertical-align: middle;\n",
              "    }\n",
              "\n",
              "    .dataframe tbody tr th {\n",
              "        vertical-align: top;\n",
              "    }\n",
              "\n",
              "    .dataframe thead th {\n",
              "        text-align: right;\n",
              "    }\n",
              "</style>\n",
              "<table border=\"1\" class=\"dataframe\">\n",
              "  <thead>\n",
              "    <tr style=\"text-align: right;\">\n",
              "      <th></th>\n",
              "      <th>Number of times pregnant</th>\n",
              "      <th>glucose concentration</th>\n",
              "      <th>blood pressure</th>\n",
              "      <th>Triceps thickness</th>\n",
              "      <th>insulin level</th>\n",
              "      <th>Body mass index</th>\n",
              "      <th>Diabetes pedigree function</th>\n",
              "      <th>Age</th>\n",
              "      <th>Diabetes result</th>\n",
              "    </tr>\n",
              "  </thead>\n",
              "  <tbody>\n",
              "    <tr>\n",
              "      <th>0</th>\n",
              "      <td>6</td>\n",
              "      <td>148</td>\n",
              "      <td>72</td>\n",
              "      <td>35</td>\n",
              "      <td>0</td>\n",
              "      <td>33.6</td>\n",
              "      <td>0.627</td>\n",
              "      <td>50</td>\n",
              "      <td>1</td>\n",
              "    </tr>\n",
              "    <tr>\n",
              "      <th>1</th>\n",
              "      <td>1</td>\n",
              "      <td>85</td>\n",
              "      <td>66</td>\n",
              "      <td>29</td>\n",
              "      <td>0</td>\n",
              "      <td>26.6</td>\n",
              "      <td>0.351</td>\n",
              "      <td>31</td>\n",
              "      <td>0</td>\n",
              "    </tr>\n",
              "    <tr>\n",
              "      <th>2</th>\n",
              "      <td>8</td>\n",
              "      <td>183</td>\n",
              "      <td>64</td>\n",
              "      <td>0</td>\n",
              "      <td>0</td>\n",
              "      <td>23.3</td>\n",
              "      <td>0.672</td>\n",
              "      <td>32</td>\n",
              "      <td>1</td>\n",
              "    </tr>\n",
              "    <tr>\n",
              "      <th>3</th>\n",
              "      <td>1</td>\n",
              "      <td>89</td>\n",
              "      <td>66</td>\n",
              "      <td>23</td>\n",
              "      <td>94</td>\n",
              "      <td>28.1</td>\n",
              "      <td>0.167</td>\n",
              "      <td>21</td>\n",
              "      <td>0</td>\n",
              "    </tr>\n",
              "    <tr>\n",
              "      <th>4</th>\n",
              "      <td>0</td>\n",
              "      <td>137</td>\n",
              "      <td>40</td>\n",
              "      <td>35</td>\n",
              "      <td>168</td>\n",
              "      <td>43.1</td>\n",
              "      <td>2.288</td>\n",
              "      <td>33</td>\n",
              "      <td>1</td>\n",
              "    </tr>\n",
              "  </tbody>\n",
              "</table>\n",
              "</div>"
            ],
            "text/plain": [
              "   Number of times pregnant  glucose concentration  ...  Age  Diabetes result\n",
              "0                         6                    148  ...   50                1\n",
              "1                         1                     85  ...   31                0\n",
              "2                         8                    183  ...   32                1\n",
              "3                         1                     89  ...   21                0\n",
              "4                         0                    137  ...   33                1\n",
              "\n",
              "[5 rows x 9 columns]"
            ]
          },
          "metadata": {
            "tags": []
          },
          "execution_count": 4
        }
      ]
    },
    {
      "cell_type": "code",
      "metadata": {
        "colab": {
          "base_uri": "https://localhost:8080/"
        },
        "id": "feHEnvDR4CCB",
        "outputId": "48be5ec5-ee73-4d50-f188-e0dd54d6fdf6"
      },
      "source": [
        "df.isnull().sum()"
      ],
      "execution_count": 5,
      "outputs": [
        {
          "output_type": "execute_result",
          "data": {
            "text/plain": [
              "Number of times pregnant      0\n",
              "glucose concentration         0\n",
              "blood pressure                0\n",
              "Triceps thickness             0\n",
              "insulin level                 0\n",
              "Body mass index               0\n",
              "Diabetes pedigree function    0\n",
              "Age                           0\n",
              "Diabetes result               0\n",
              "dtype: int64"
            ]
          },
          "metadata": {
            "tags": []
          },
          "execution_count": 5
        }
      ]
    },
    {
      "cell_type": "code",
      "metadata": {
        "colab": {
          "base_uri": "https://localhost:8080/"
        },
        "id": "3EfCRLWPXSNJ",
        "outputId": "bb423274-31bb-4c83-b6af-4a19c505a9c9"
      },
      "source": [
        "df.groupby(\"Diabetes result\").size()"
      ],
      "execution_count": 6,
      "outputs": [
        {
          "output_type": "execute_result",
          "data": {
            "text/plain": [
              "Diabetes result\n",
              "0    500\n",
              "1    268\n",
              "dtype: int64"
            ]
          },
          "metadata": {
            "tags": []
          },
          "execution_count": 6
        }
      ]
    },
    {
      "cell_type": "code",
      "metadata": {
        "colab": {
          "base_uri": "https://localhost:8080/",
          "height": 661
        },
        "id": "IfhUBmhtYA58",
        "outputId": "0e8847c1-3022-408c-b443-7f3fa844695f"
      },
      "source": [
        "df.hist(figsize=(10,8),bins=15)"
      ],
      "execution_count": 7,
      "outputs": [
        {
          "output_type": "execute_result",
          "data": {
            "text/plain": [
              "array([[<matplotlib.axes._subplots.AxesSubplot object at 0x7f5451bdb3d0>,\n",
              "        <matplotlib.axes._subplots.AxesSubplot object at 0x7f5451bb1b90>,\n",
              "        <matplotlib.axes._subplots.AxesSubplot object at 0x7f5451b77250>],\n",
              "       [<matplotlib.axes._subplots.AxesSubplot object at 0x7f5451b2d8d0>,\n",
              "        <matplotlib.axes._subplots.AxesSubplot object at 0x7f5451ae1f50>,\n",
              "        <matplotlib.axes._subplots.AxesSubplot object at 0x7f5451a91b90>],\n",
              "       [<matplotlib.axes._subplots.AxesSubplot object at 0x7f5451a5c690>,\n",
              "        <matplotlib.axes._subplots.AxesSubplot object at 0x7f5451a11ad0>,\n",
              "        <matplotlib.axes._subplots.AxesSubplot object at 0x7f5451a11b10>]],\n",
              "      dtype=object)"
            ]
          },
          "metadata": {
            "tags": []
          },
          "execution_count": 7
        },
        {
          "output_type": "display_data",
          "data": {
            "image/png": "[encoded data removed]",
            "text/plain": [
              "<Figure size 720x576 with 9 Axes>"
            ]
          },
          "metadata": {
            "tags": [],
            "needs_background": "light"
          }
        }
      ]
    },
    {
      "cell_type": "code",
      "metadata": {
        "id": "QMS1-zNJWCFT"
      },
      "source": [
        "X=df.drop(\"Diabetes result\",axis=1)"
      ],
      "execution_count": 8,
      "outputs": []
    },
    {
      "cell_type": "code",
      "metadata": {
        "id": "V9txNLqcfYSE"
      },
      "source": [
        "y=df[\"Diabetes result\"]"
      ],
      "execution_count": 9,
      "outputs": []
    },
    {
      "cell_type": "code",
      "metadata": {
        "id": "UCiORoz44mLT"
      },
      "source": [
        "from sklearn.model_selection import cross_validate\n",
        "from sklearn.model_selection import train_test_split"
      ],
      "execution_count": 10,
      "outputs": []
    },
    {
      "cell_type": "code",
      "metadata": {
        "id": "gGfjr7x04mRD"
      },
      "source": [
        "X_train,X_test,y_train,y_test=train_test_split(X,y,test_size=.30,random_state=50)"
      ],
      "execution_count": 11,
      "outputs": []
    },
    {
      "cell_type": "code",
      "metadata": {
        "id": "tM7_6KrE4mXj"
      },
      "source": [
        "from keras.utils import np_utils\n",
        "y_train=np_utils.to_categorical(y_train)"
      ],
      "execution_count": 12,
      "outputs": []
    },
    {
      "cell_type": "code",
      "metadata": {
        "id": "fNiW3CWH4mZX"
      },
      "source": [
        "model=Sequential()\n",
        "model.add(Dense(12,input_dim=8,activation='relu'))\n",
        "model.add(Dense(8,activation='relu'))\n",
        "model.add(Dense(2,activation='sigmoid'))"
      ],
      "execution_count": 13,
      "outputs": []
    },
    {
      "cell_type": "code",
      "metadata": {
        "id": "ynM3OTbw4mbt"
      },
      "source": [
        "model.compile(loss='binary_crossentropy',optimizer='adam',metrics=['accuracy'])"
      ],
      "execution_count": 14,
      "outputs": []
    },
    {
      "cell_type": "code",
      "metadata": {
        "colab": {
          "base_uri": "https://localhost:8080/"
        },
        "id": "UWQlOcvS4mfd",
        "outputId": "d6a9be29-f3c6-45c9-b01d-d64207c76964"
      },
      "source": [
        "model.fit(X_train,y_train,epochs=150,batch_size=15)"
      ],
      "execution_count": 15,
      "outputs": [
        {
          "output_type": "stream",
          "text": [
            "Epoch 1/150\n",
            "36/36 [==============================] - 1s 992us/step - loss: 11.1959 - accuracy: 0.6567\n",
            "Epoch 2/150\n",
            "36/36 [==============================] - 0s 1ms/step - loss: 1.7095 - accuracy: 0.5777\n",
            "Epoch 3/150\n",
            "36/36 [==============================] - 0s 1ms/step - loss: 1.2422 - accuracy: 0.5021\n",
            "Epoch 4/150\n",
            "36/36 [==============================] - 0s 998us/step - loss: 1.2270 - accuracy: 0.4967\n",
            "Epoch 5/150\n",
            "36/36 [==============================] - 0s 1ms/step - loss: 0.9232 - accuracy: 0.5707\n",
            "Epoch 6/150\n",
            "36/36 [==============================] - 0s 1ms/step - loss: 0.9952 - accuracy: 0.5826\n",
            "Epoch 7/150\n",
            "36/36 [==============================] - 0s 1ms/step - loss: 0.8704 - accuracy: 0.5869\n",
            "Epoch 8/150\n",
            "36/36 [==============================] - 0s 1ms/step - loss: 0.8789 - accuracy: 0.5786\n",
            "Epoch 9/150\n",
            "36/36 [==============================] - 0s 2ms/step - loss: 0.7644 - accuracy: 0.6144\n",
            "Epoch 10/150\n",
            "36/36 [==============================] - 0s 1ms/step - loss: 0.7515 - accuracy: 0.6070\n",
            "Epoch 11/150\n",
            "36/36 [==============================] - 0s 1ms/step - loss: 0.7545 - accuracy: 0.6410\n",
            "Epoch 12/150\n",
            "36/36 [==============================] - 0s 1ms/step - loss: 0.7263 - accuracy: 0.6166\n",
            "Epoch 13/150\n",
            "36/36 [==============================] - 0s 1ms/step - loss: 0.7137 - accuracy: 0.6694\n",
            "Epoch 14/150\n",
            "36/36 [==============================] - 0s 2ms/step - loss: 0.7030 - accuracy: 0.6438\n",
            "Epoch 15/150\n",
            "36/36 [==============================] - 0s 1ms/step - loss: 0.6832 - accuracy: 0.6337\n",
            "Epoch 16/150\n",
            "36/36 [==============================] - 0s 1ms/step - loss: 0.6931 - accuracy: 0.6290\n",
            "Epoch 17/150\n",
            "36/36 [==============================] - 0s 1ms/step - loss: 0.7211 - accuracy: 0.6347\n",
            "Epoch 18/150\n",
            "36/36 [==============================] - 0s 1ms/step - loss: 0.6568 - accuracy: 0.6460\n",
            "Epoch 19/150\n",
            "36/36 [==============================] - 0s 993us/step - loss: 0.6611 - accuracy: 0.6756\n",
            "Epoch 20/150\n",
            "36/36 [==============================] - 0s 1ms/step - loss: 0.6272 - accuracy: 0.7183\n",
            "Epoch 21/150\n",
            "36/36 [==============================] - 0s 1ms/step - loss: 0.6623 - accuracy: 0.6747\n",
            "Epoch 22/150\n",
            "36/36 [==============================] - 0s 1ms/step - loss: 0.6189 - accuracy: 0.6967\n",
            "Epoch 23/150\n",
            "36/36 [==============================] - 0s 1ms/step - loss: 0.6441 - accuracy: 0.6706\n",
            "Epoch 24/150\n",
            "36/36 [==============================] - 0s 978us/step - loss: 0.6458 - accuracy: 0.6776\n",
            "Epoch 25/150\n",
            "36/36 [==============================] - 0s 1ms/step - loss: 0.6137 - accuracy: 0.6969\n",
            "Epoch 26/150\n",
            "36/36 [==============================] - 0s 959us/step - loss: 0.6352 - accuracy: 0.6649\n",
            "Epoch 27/150\n",
            "36/36 [==============================] - 0s 1ms/step - loss: 0.6309 - accuracy: 0.6793\n",
            "Epoch 28/150\n",
            "36/36 [==============================] - 0s 1ms/step - loss: 0.6044 - accuracy: 0.6925\n",
            "Epoch 29/150\n",
            "36/36 [==============================] - 0s 1ms/step - loss: 0.6483 - accuracy: 0.6711\n",
            "Epoch 30/150\n",
            "36/36 [==============================] - 0s 1ms/step - loss: 0.5905 - accuracy: 0.7304\n",
            "Epoch 31/150\n",
            "36/36 [==============================] - 0s 1ms/step - loss: 0.6352 - accuracy: 0.6827\n",
            "Epoch 32/150\n",
            "36/36 [==============================] - 0s 1ms/step - loss: 0.6670 - accuracy: 0.6387\n",
            "Epoch 33/150\n",
            "36/36 [==============================] - 0s 1ms/step - loss: 0.6330 - accuracy: 0.7025\n",
            "Epoch 34/150\n",
            "36/36 [==============================] - 0s 1ms/step - loss: 0.6240 - accuracy: 0.6794\n",
            "Epoch 35/150\n",
            "36/36 [==============================] - 0s 1ms/step - loss: 0.5966 - accuracy: 0.7112\n",
            "Epoch 36/150\n",
            "36/36 [==============================] - 0s 1ms/step - loss: 0.6086 - accuracy: 0.7121\n",
            "Epoch 37/150\n",
            "36/36 [==============================] - 0s 1ms/step - loss: 0.6527 - accuracy: 0.7053\n",
            "Epoch 38/150\n",
            "36/36 [==============================] - 0s 1ms/step - loss: 0.5827 - accuracy: 0.7304\n",
            "Epoch 39/150\n",
            "36/36 [==============================] - 0s 1ms/step - loss: 0.6198 - accuracy: 0.6879\n",
            "Epoch 40/150\n",
            "36/36 [==============================] - 0s 1ms/step - loss: 0.5985 - accuracy: 0.7286\n",
            "Epoch 41/150\n",
            "36/36 [==============================] - 0s 1ms/step - loss: 0.5623 - accuracy: 0.7372\n",
            "Epoch 42/150\n",
            "36/36 [==============================] - 0s 1ms/step - loss: 0.6139 - accuracy: 0.7061\n",
            "Epoch 43/150\n",
            "36/36 [==============================] - 0s 1ms/step - loss: 0.6278 - accuracy: 0.6787\n",
            "Epoch 44/150\n",
            "36/36 [==============================] - 0s 1ms/step - loss: 0.6192 - accuracy: 0.6858\n",
            "Epoch 45/150\n",
            "36/36 [==============================] - 0s 975us/step - loss: 0.5814 - accuracy: 0.7151\n",
            "Epoch 46/150\n",
            "36/36 [==============================] - 0s 1ms/step - loss: 0.6416 - accuracy: 0.6699\n",
            "Epoch 47/150\n",
            "36/36 [==============================] - 0s 1ms/step - loss: 0.5904 - accuracy: 0.6997\n",
            "Epoch 48/150\n",
            "36/36 [==============================] - 0s 1ms/step - loss: 0.5844 - accuracy: 0.7099\n",
            "Epoch 49/150\n",
            "36/36 [==============================] - 0s 1ms/step - loss: 0.5946 - accuracy: 0.6866\n",
            "Epoch 50/150\n",
            "36/36 [==============================] - 0s 1ms/step - loss: 0.6087 - accuracy: 0.7075\n",
            "Epoch 51/150\n",
            "36/36 [==============================] - 0s 1ms/step - loss: 0.5651 - accuracy: 0.7325\n",
            "Epoch 52/150\n",
            "36/36 [==============================] - 0s 1ms/step - loss: 0.6082 - accuracy: 0.7206\n",
            "Epoch 53/150\n",
            "36/36 [==============================] - 0s 1ms/step - loss: 0.5925 - accuracy: 0.6989\n",
            "Epoch 54/150\n",
            "36/36 [==============================] - 0s 1ms/step - loss: 0.6363 - accuracy: 0.6631\n",
            "Epoch 55/150\n",
            "36/36 [==============================] - 0s 1ms/step - loss: 0.5823 - accuracy: 0.7224\n",
            "Epoch 56/150\n",
            "36/36 [==============================] - 0s 1ms/step - loss: 0.6033 - accuracy: 0.7239\n",
            "Epoch 57/150\n",
            "36/36 [==============================] - 0s 1ms/step - loss: 0.5729 - accuracy: 0.7281\n",
            "Epoch 58/150\n",
            "36/36 [==============================] - 0s 990us/step - loss: 0.5972 - accuracy: 0.6815\n",
            "Epoch 59/150\n",
            "36/36 [==============================] - 0s 1ms/step - loss: 0.5877 - accuracy: 0.7208\n",
            "Epoch 60/150\n",
            "36/36 [==============================] - 0s 1ms/step - loss: 0.5821 - accuracy: 0.6986\n",
            "Epoch 61/150\n",
            "36/36 [==============================] - 0s 1ms/step - loss: 0.5997 - accuracy: 0.7089\n",
            "Epoch 62/150\n",
            "36/36 [==============================] - 0s 1ms/step - loss: 0.5807 - accuracy: 0.7145\n",
            "Epoch 63/150\n",
            "36/36 [==============================] - 0s 1ms/step - loss: 0.6161 - accuracy: 0.6822\n",
            "Epoch 64/150\n",
            "36/36 [==============================] - 0s 1ms/step - loss: 0.5912 - accuracy: 0.7249\n",
            "Epoch 65/150\n",
            "36/36 [==============================] - 0s 1ms/step - loss: 0.5618 - accuracy: 0.7323\n",
            "Epoch 66/150\n",
            "36/36 [==============================] - 0s 1ms/step - loss: 0.5681 - accuracy: 0.7345\n",
            "Epoch 67/150\n",
            "36/36 [==============================] - 0s 1ms/step - loss: 0.6728 - accuracy: 0.6784\n",
            "Epoch 68/150\n",
            "36/36 [==============================] - 0s 1ms/step - loss: 0.5766 - accuracy: 0.7063\n",
            "Epoch 69/150\n",
            "36/36 [==============================] - 0s 1ms/step - loss: 0.5743 - accuracy: 0.7224\n",
            "Epoch 70/150\n",
            "36/36 [==============================] - 0s 1ms/step - loss: 0.5506 - accuracy: 0.7471\n",
            "Epoch 71/150\n",
            "36/36 [==============================] - 0s 1ms/step - loss: 0.5717 - accuracy: 0.6954\n",
            "Epoch 72/150\n",
            "36/36 [==============================] - 0s 1ms/step - loss: 0.5644 - accuracy: 0.7230\n",
            "Epoch 73/150\n",
            "36/36 [==============================] - 0s 1ms/step - loss: 0.5609 - accuracy: 0.7376\n",
            "Epoch 74/150\n",
            "36/36 [==============================] - 0s 1ms/step - loss: 0.6068 - accuracy: 0.7041\n",
            "Epoch 75/150\n",
            "36/36 [==============================] - 0s 2ms/step - loss: 0.5720 - accuracy: 0.7233\n",
            "Epoch 76/150\n",
            "36/36 [==============================] - 0s 1ms/step - loss: 0.5983 - accuracy: 0.6997\n",
            "Epoch 77/150\n",
            "36/36 [==============================] - 0s 1ms/step - loss: 0.6055 - accuracy: 0.6966\n",
            "Epoch 78/150\n",
            "36/36 [==============================] - 0s 1ms/step - loss: 0.6019 - accuracy: 0.7223\n",
            "Epoch 79/150\n",
            "36/36 [==============================] - 0s 1ms/step - loss: 0.6348 - accuracy: 0.6316\n",
            "Epoch 80/150\n",
            "36/36 [==============================] - 0s 1ms/step - loss: 0.5790 - accuracy: 0.6902\n",
            "Epoch 81/150\n",
            "36/36 [==============================] - 0s 946us/step - loss: 0.5747 - accuracy: 0.7127\n",
            "Epoch 82/150\n",
            "36/36 [==============================] - 0s 1ms/step - loss: 0.6237 - accuracy: 0.6868\n",
            "Epoch 83/150\n",
            "36/36 [==============================] - 0s 1ms/step - loss: 0.5689 - accuracy: 0.7313\n",
            "Epoch 84/150\n",
            "36/36 [==============================] - 0s 1ms/step - loss: 0.5499 - accuracy: 0.7219\n",
            "Epoch 85/150\n",
            "36/36 [==============================] - 0s 1ms/step - loss: 0.5706 - accuracy: 0.7385\n",
            "Epoch 86/150\n",
            "36/36 [==============================] - 0s 1ms/step - loss: 0.5993 - accuracy: 0.6984\n",
            "Epoch 87/150\n",
            "36/36 [==============================] - 0s 1ms/step - loss: 0.5699 - accuracy: 0.7271\n",
            "Epoch 88/150\n",
            "36/36 [==============================] - 0s 1ms/step - loss: 0.5595 - accuracy: 0.7513\n",
            "Epoch 89/150\n",
            "36/36 [==============================] - 0s 1ms/step - loss: 0.5541 - accuracy: 0.7245\n",
            "Epoch 90/150\n",
            "36/36 [==============================] - 0s 1ms/step - loss: 0.5659 - accuracy: 0.7379\n",
            "Epoch 91/150\n",
            "36/36 [==============================] - 0s 1ms/step - loss: 0.5630 - accuracy: 0.7335\n",
            "Epoch 92/150\n",
            "36/36 [==============================] - 0s 1ms/step - loss: 0.5539 - accuracy: 0.7333\n",
            "Epoch 93/150\n",
            "36/36 [==============================] - 0s 1ms/step - loss: 0.6037 - accuracy: 0.7013\n",
            "Epoch 94/150\n",
            "36/36 [==============================] - 0s 1ms/step - loss: 0.5818 - accuracy: 0.7042\n",
            "Epoch 95/150\n",
            "36/36 [==============================] - 0s 1ms/step - loss: 0.5569 - accuracy: 0.7339\n",
            "Epoch 96/150\n",
            "36/36 [==============================] - 0s 1ms/step - loss: 0.5858 - accuracy: 0.7014\n",
            "Epoch 97/150\n",
            "36/36 [==============================] - 0s 1ms/step - loss: 0.5592 - accuracy: 0.7346\n",
            "Epoch 98/150\n",
            "36/36 [==============================] - 0s 1ms/step - loss: 0.5506 - accuracy: 0.7644\n",
            "Epoch 99/150\n",
            "36/36 [==============================] - 0s 1ms/step - loss: 0.6141 - accuracy: 0.6746\n",
            "Epoch 100/150\n",
            "36/36 [==============================] - 0s 1ms/step - loss: 0.5688 - accuracy: 0.7349\n",
            "Epoch 101/150\n",
            "36/36 [==============================] - 0s 1ms/step - loss: 0.5481 - accuracy: 0.7322\n",
            "Epoch 102/150\n",
            "36/36 [==============================] - 0s 1ms/step - loss: 0.5384 - accuracy: 0.7647\n",
            "Epoch 103/150\n",
            "36/36 [==============================] - 0s 1ms/step - loss: 0.5690 - accuracy: 0.7102\n",
            "Epoch 104/150\n",
            "36/36 [==============================] - 0s 1ms/step - loss: 0.5309 - accuracy: 0.7672\n",
            "Epoch 105/150\n",
            "36/36 [==============================] - 0s 1ms/step - loss: 0.5857 - accuracy: 0.7069\n",
            "Epoch 106/150\n",
            "36/36 [==============================] - 0s 1ms/step - loss: 0.5640 - accuracy: 0.7092\n",
            "Epoch 107/150\n",
            "36/36 [==============================] - 0s 1ms/step - loss: 0.6110 - accuracy: 0.6888\n",
            "Epoch 108/150\n",
            "36/36 [==============================] - 0s 2ms/step - loss: 0.5651 - accuracy: 0.7172\n",
            "Epoch 109/150\n",
            "36/36 [==============================] - 0s 1ms/step - loss: 0.5729 - accuracy: 0.6959\n",
            "Epoch 110/150\n",
            "36/36 [==============================] - 0s 1ms/step - loss: 0.5415 - accuracy: 0.7200\n",
            "Epoch 111/150\n",
            "36/36 [==============================] - 0s 1ms/step - loss: 0.5506 - accuracy: 0.7308\n",
            "Epoch 112/150\n",
            "36/36 [==============================] - 0s 1ms/step - loss: 0.5485 - accuracy: 0.7367\n",
            "Epoch 113/150\n",
            "36/36 [==============================] - 0s 1ms/step - loss: 0.5426 - accuracy: 0.7601\n",
            "Epoch 114/150\n",
            "36/36 [==============================] - 0s 1ms/step - loss: 0.5321 - accuracy: 0.7636\n",
            "Epoch 115/150\n",
            "36/36 [==============================] - 0s 1ms/step - loss: 0.5890 - accuracy: 0.6963\n",
            "Epoch 116/150\n",
            "36/36 [==============================] - 0s 1ms/step - loss: 0.5781 - accuracy: 0.7061\n",
            "Epoch 117/150\n",
            "36/36 [==============================] - 0s 1ms/step - loss: 0.5807 - accuracy: 0.7301\n",
            "Epoch 118/150\n",
            "36/36 [==============================] - 0s 1ms/step - loss: 0.5295 - accuracy: 0.7214\n",
            "Epoch 119/150\n",
            "36/36 [==============================] - 0s 1ms/step - loss: 0.6337 - accuracy: 0.6773\n",
            "Epoch 120/150\n",
            "36/36 [==============================] - 0s 1ms/step - loss: 0.5886 - accuracy: 0.6868\n",
            "Epoch 121/150\n",
            "36/36 [==============================] - 0s 1ms/step - loss: 0.5490 - accuracy: 0.7246\n",
            "Epoch 122/150\n",
            "36/36 [==============================] - 0s 1ms/step - loss: 0.5437 - accuracy: 0.7135\n",
            "Epoch 123/150\n",
            "36/36 [==============================] - 0s 1ms/step - loss: 0.5163 - accuracy: 0.7393\n",
            "Epoch 124/150\n",
            "36/36 [==============================] - 0s 2ms/step - loss: 0.5604 - accuracy: 0.7334\n",
            "Epoch 125/150\n",
            "36/36 [==============================] - 0s 2ms/step - loss: 0.5711 - accuracy: 0.7268\n",
            "Epoch 126/150\n",
            "36/36 [==============================] - 0s 1ms/step - loss: 0.5481 - accuracy: 0.7413\n",
            "Epoch 127/150\n",
            "36/36 [==============================] - 0s 1ms/step - loss: 0.5737 - accuracy: 0.6834\n",
            "Epoch 128/150\n",
            "36/36 [==============================] - 0s 1ms/step - loss: 0.6010 - accuracy: 0.6967\n",
            "Epoch 129/150\n",
            "36/36 [==============================] - 0s 1ms/step - loss: 0.5379 - accuracy: 0.7396\n",
            "Epoch 130/150\n",
            "36/36 [==============================] - 0s 1ms/step - loss: 0.5570 - accuracy: 0.7234\n",
            "Epoch 131/150\n",
            "36/36 [==============================] - 0s 1ms/step - loss: 0.5290 - accuracy: 0.7429\n",
            "Epoch 132/150\n",
            "36/36 [==============================] - 0s 1ms/step - loss: 0.5226 - accuracy: 0.7601\n",
            "Epoch 133/150\n",
            "36/36 [==============================] - 0s 1ms/step - loss: 0.5688 - accuracy: 0.7322\n",
            "Epoch 134/150\n",
            "36/36 [==============================] - 0s 1ms/step - loss: 0.5485 - accuracy: 0.7454\n",
            "Epoch 135/150\n",
            "36/36 [==============================] - 0s 1ms/step - loss: 0.5348 - accuracy: 0.7281\n",
            "Epoch 136/150\n",
            "36/36 [==============================] - 0s 1ms/step - loss: 0.5395 - accuracy: 0.7383\n",
            "Epoch 137/150\n",
            "36/36 [==============================] - 0s 1ms/step - loss: 0.5348 - accuracy: 0.7420\n",
            "Epoch 138/150\n",
            "36/36 [==============================] - 0s 1ms/step - loss: 0.5570 - accuracy: 0.7539\n",
            "Epoch 139/150\n",
            "36/36 [==============================] - 0s 1ms/step - loss: 0.5521 - accuracy: 0.7176\n",
            "Epoch 140/150\n",
            "36/36 [==============================] - 0s 1ms/step - loss: 0.5289 - accuracy: 0.7594\n",
            "Epoch 141/150\n",
            "36/36 [==============================] - 0s 1ms/step - loss: 0.5553 - accuracy: 0.7189\n",
            "Epoch 142/150\n",
            "36/36 [==============================] - 0s 1ms/step - loss: 0.5283 - accuracy: 0.7649\n",
            "Epoch 143/150\n",
            "36/36 [==============================] - 0s 1ms/step - loss: 0.5318 - accuracy: 0.7425\n",
            "Epoch 144/150\n",
            "36/36 [==============================] - 0s 1ms/step - loss: 0.5429 - accuracy: 0.7262\n",
            "Epoch 145/150\n",
            "36/36 [==============================] - 0s 1ms/step - loss: 0.5171 - accuracy: 0.7397\n",
            "Epoch 146/150\n",
            "36/36 [==============================] - 0s 1ms/step - loss: 0.5102 - accuracy: 0.7527\n",
            "Epoch 147/150\n",
            "36/36 [==============================] - 0s 1ms/step - loss: 0.5179 - accuracy: 0.7573\n",
            "Epoch 148/150\n",
            "36/36 [==============================] - 0s 1ms/step - loss: 0.5745 - accuracy: 0.7213\n",
            "Epoch 149/150\n",
            "36/36 [==============================] - 0s 1ms/step - loss: 0.5059 - accuracy: 0.7944\n",
            "Epoch 150/150\n",
            "36/36 [==============================] - 0s 1ms/step - loss: 0.5413 - accuracy: 0.7336\n"
          ],
          "name": "stdout"
        },
        {
          "output_type": "execute_result",
          "data": {
            "text/plain": [
              "<tensorflow.python.keras.callbacks.History at 0x7f5445671cd0>"
            ]
          },
          "metadata": {
            "tags": []
          },
          "execution_count": 15
        }
      ]
    },
    {
      "cell_type": "code",
      "metadata": {
        "id": "8pW6kyKANYA4"
      },
      "source": [
        "from sklearn.metrics import accuracy_score\n",
        "y_pred=model.predict(X_test)\n",
        "y_pred=np.argmax(y_pred,axis=1)"
      ],
      "execution_count": 16,
      "outputs": []
    },
    {
      "cell_type": "code",
      "metadata": {
        "colab": {
          "base_uri": "https://localhost:8080/"
        },
        "id": "ZdRdKj93OpfG",
        "outputId": "b3aaba62-9586-46df-963e-99d93ba88b46"
      },
      "source": [
        "accuracy_score(y_test,y_pred)"
      ],
      "execution_count": 17,
      "outputs": [
        {
          "output_type": "execute_result",
          "data": {
            "text/plain": [
              "0.7359307359307359"
            ]
          },
          "metadata": {
            "tags": []
          },
          "execution_count": 17
        }
      ]
    },
    {
      "cell_type": "code",
      "metadata": {
        "id": "-rUdItqFZJk4"
      },
      "source": [
        ""
      ],
      "execution_count": 17,
      "outputs": []
    }
  ]
}